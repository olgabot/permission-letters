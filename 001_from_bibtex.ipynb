{
 "cells": [
  {
   "cell_type": "code",
   "execution_count": 1,
   "metadata": {
    "collapsed": true
   },
   "outputs": [],
   "source": [
    "import bibtexparser"
   ]
  },
  {
   "cell_type": "code",
   "execution_count": 4,
   "metadata": {
    "collapsed": false
   },
   "outputs": [
    {
     "data": {
      "text/plain": [
       "<bibtexparser.bibdatabase.BibDatabase at 0x10d4ce320>"
      ]
     },
     "execution_count": 4,
     "metadata": {},
     "output_type": "execute_result"
    }
   ],
   "source": [
    "with open('articles.bib') as f:\n",
    "    articles = bibtexparser.load(f)\n",
    "articles"
   ]
  },
  {
   "cell_type": "code",
   "execution_count": 5,
   "metadata": {
    "collapsed": false
   },
   "outputs": [
    {
     "name": "stdout",
     "output_type": "stream",
     "text": [
      "{'volume': '133', 'number': '7', 'title': 'Variation in homeodomain DNA binding revealed by high-resolution analysis of sequence preferences', 'ENTRYTYPE': 'article', 'ID': 'berger2008variation', 'publisher': 'Elsevier', 'year': '2008', 'author': 'Berger, Michael F and Badis, Gwenael and Gehrke, Andrew R and Talukder, Shaheynoor and Philippakis, Anthony A and Pena-Castillo, Lourdes and Alleyne, Trevis M and Mnaimneh, Sanie and Botvinnik, Olga B and Chan, Esther T and others', 'pages': '1266--1276', 'journal': 'Cell'}\n",
      "{'volume': '5', 'number': '224', 'title': 'MicroSCALE screening reveals genetic modifiers of therapeutic response in melanoma', 'ENTRYTYPE': 'article', 'ID': 'wood2012microscale', 'publisher': 'NIH Public Access', 'year': '2012', 'author': 'Wood, Kris C and Konieczkowski, David J and Johannessen, Cory M and Boehm, Jesse S and Tamayo, Pablo and Botvinnik, Olga B and Mesirov, Jill P and Hahn, William C and Root, David E and Garraway, Levi A and others', 'pages': 'rs4', 'journal': 'Science Signaling'}\n",
      "{'volume': '5', 'number': '1', 'title': 'Prediction of response to therapy with ezatiostat in lower risk myelodysplastic syndrome', 'ENTRYTYPE': 'article', 'ID': 'galili2012prediction', 'publisher': 'BioMed Central', 'year': '2012', 'author': 'Galili, Naomi and Tamayo, Pablo and Botvinnik, Olga B and Mesirov, Jill P and Brooks, Margarita R and Brown, Gail and Raza, Azra', 'pages': '1', 'journal': 'Journal of Hematology \\\\& Oncology'}\n",
      "{'volume': '118', 'number': '21', 'title': 'Gene Expression Studies May Identify Lower Risk Myelodysplastic Syndrome Patients Likely to Respond to Therapy with Ezatiostat Hydrochloride (TLK199)', 'ENTRYTYPE': 'article', 'ID': 'galili2011gene', 'publisher': 'American Society of Hematology', 'year': '2011', 'author': 'Galili, Naomi and Tamayo, Pablo and Botvinnik, Olga B and Mesirov, Jill P and Zikria, Jennifer and Brown, Gail and Raza, Azra', 'pages': '2779--2779', 'journal': 'Blood'}\n",
      "{'journal': 'Nature Biotechnology', 'title': 'Characterizing genomic alterations in cancer by complementary functional associations', 'ENTRYTYPE': 'article', 'ID': 'kim2016characterizing', 'year': '2016', 'author': 'Kim*, Jong Wook and Botvinnik*, Olga B and Abudayyeh, Omar and Birger, Chet and Rosenbluh, Joseph and Shrestha, Yashaswi and Abazeed, Mohamed E and Hammerman, Peter S and DiCara, Daniel and Konieczkowski, David J and others', 'publisher': 'Nature Publishing Group'}\n",
      "{'volume': '15', 'file': 'Cell Reports 2016 Nutter.pdf:/Users/olga/Documents/Library.papers3/Articles/2016/Nutter/Cell Reports 2016 Nutter.pdf:application/pdf;Cell Reports 2016 Nutter.pdf:/Users/olga/Documents/Library.papers3/Articles/2016/Nutter/Cell Reports 2016 Nutter.pdf:application/pdf', 'rating': '0', 'doi': '10.1016/j.celrep.2016.05.002', 'link': 'http://linkinghub.elsevier.com/retrieve/pii/S2211124716305551', 'author': 'Nutter, Curtis A and Jaworski, Elizabeth A and Verma, Sunil K and Deshmukh, Vaibhav and Wang, Qiongling and Botvinnik, Olga B and Lozano, Mario J and Abass, Ismail J and Ijaz, Talha and Brasier, Allan R and Garg, Nisha J and Wehrens, Xander H T and Yeo, Gene W and Kuyumcu-Martinez, Muge N', 'pages': '2200--2213', 'number': '10', 'date-modified': '2016-12-26T22:43:33GMT', 'title': 'Dysregulation of RBFOX2 Is an Early Event in Cardiac Pathogenesis of Diabetes', 'ENTRYTYPE': 'article', 'ID': 'Nutter:2016fd', 'language': 'English', 'year': '2016', 'uri': '\\\\url{papers3://publication/doi/10.1016/j.celrep.2016.05.002}', 'local-url': 'file://localhost/Users/olga/Documents/Library.papers3/Articles/2016/Nutter/Cell%20Reports%202016%20Nutter.pdf', 'date-added': '2016-12-26T22:41:36GMT', 'journal': 'Cell Reports'}\n",
      "{'file': '2012 Goncearenco.pdf:/Users/olga/Documents/Library.papers3/Articles/2012/Goncearenco/2012 Goncearenco.pdf:application/pdf', 'rating': '0', 'journal': 'BMC Bioinformatics', 'link': 'http://bmcbioinformatics.biomedcentral.com/articles/10.1186/1471-2105-13-S18-A1', 'read': 'Yes', 'uri': '\\\\url{papers3://publication/doi/10.1186/1471-2105-13-S18-A1}', 'abstract': '... BMC Bioinformatics201213(Suppl 18):A1. DOI: 10.1186 / 1471 - 2105 - 13 - S18 - A1 . {\\\\textcopyright} Goncearenco et al; licensee BioMed Central Ltd. 2012. Published: 14 December 2012. Abstract. The report summarizes the scientific content of ...', 'date-modified': '2016-12-26T22:45:51GMT', 'title': 'Highlights from the Eighth International Society for Computational Biology (ISCB) Student Council Symposium 2012', 'ENTRYTYPE': 'article', 'ID': 'Goncearenco:2012eha', 'author': 'Goncearenco, A and Grynberg, P and Botvinnik, Olga B and Macintyre, Geoff and Abeel, Thomas', 'year': '2012', 'local-url': 'file://localhost/Users/olga/Documents/Library.papers3/Articles/2012/Goncearenco/2012%20Goncearenco.pdf', 'date-added': '2016-12-26T22:41:19GMT', 'doi': '10.1186/1471-2105-13-S18-A1'}\n"
     ]
    }
   ],
   "source": [
    "for entry in articles.entries:\n",
    "    print(entry)"
   ]
  },
  {
   "cell_type": "code",
   "execution_count": 14,
   "metadata": {
    "collapsed": false
   },
   "outputs": [
    {
     "name": "stdout",
     "output_type": "stream",
     "text": [
      "Variation in homeodomain DNA binding revealed by high-resolution analysis of sequence preferences\n",
      "\t Michael F Berger\n",
      "\t Gwenael Badis\n",
      "\t Andrew R Gehrke\n",
      "\t Shaheynoor Talukder\n",
      "\t Anthony A Philippakis\n",
      "\t Lourdes Pena-Castillo\n",
      "\t Trevis M Alleyne\n",
      "\t Sanie Mnaimneh\n",
      "\t Olga B Botvinnik\n",
      "\t Esther T Chan\n",
      "\t et al\n",
      "MicroSCALE screening reveals genetic modifiers of therapeutic response in melanoma\n",
      "\t Kris C Wood\n",
      "\t David J Konieczkowski\n",
      "\t Cory M Johannessen\n",
      "\t Jesse S Boehm\n",
      "\t Pablo Tamayo\n",
      "\t Olga B Botvinnik\n",
      "\t Jill P Mesirov\n",
      "\t William C Hahn\n",
      "\t David E Root\n",
      "\t Levi A Garraway\n",
      "\t et al\n",
      "Prediction of response to therapy with ezatiostat in lower risk myelodysplastic syndrome\n",
      "\t Naomi Galili\n",
      "\t Pablo Tamayo\n",
      "\t Olga B Botvinnik\n",
      "\t Jill P Mesirov\n",
      "\t Margarita R Brooks\n",
      "\t Gail Brown\n",
      "\t Azra Raza\n",
      "Gene Expression Studies May Identify Lower Risk Myelodysplastic Syndrome Patients Likely to Respond to Therapy with Ezatiostat Hydrochloride (TLK199)\n",
      "\t Naomi Galili\n",
      "\t Pablo Tamayo\n",
      "\t Olga B Botvinnik\n",
      "\t Jill P Mesirov\n",
      "\t Jennifer Zikria\n",
      "\t Gail Brown\n",
      "\t Azra Raza\n",
      "Characterizing genomic alterations in cancer by complementary functional associations\n",
      "\t Jong Wook Kim*\n",
      "\t Olga B Botvinnik*\n",
      "\t Omar Abudayyeh\n",
      "\t Chet Birger\n",
      "\t Joseph Rosenbluh\n",
      "\t Yashaswi Shrestha\n",
      "\t Mohamed E Abazeed\n",
      "\t Peter S Hammerman\n",
      "\t Daniel DiCara\n",
      "\t David J Konieczkowski\n",
      "\t et al\n",
      "Dysregulation of RBFOX2 Is an Early Event in Cardiac Pathogenesis of Diabetes\n",
      "\t Curtis A Nutter\n",
      "\t Elizabeth A Jaworski\n",
      "\t Sunil K Verma\n",
      "\t Vaibhav Deshmukh\n",
      "\t Qiongling Wang\n",
      "\t Olga B Botvinnik\n",
      "\t Mario J Lozano\n",
      "\t Ismail J Abass\n",
      "\t Talha Ijaz\n",
      "\t Allan R Brasier\n",
      "\t Nisha J Garg\n",
      "\t Xander H T Wehrens\n",
      "\t Gene W Yeo\n",
      "\t Muge N Kuyumcu-Martinez\n",
      "Highlights from the Eighth International Society for Computational Biology (ISCB) Student Council Symposium 2012\n",
      "\t A Goncearenco\n",
      "\t P Grynberg\n",
      "\t Olga B Botvinnik\n",
      "\t Geoff Macintyre\n",
      "\t Thomas Abeel\n"
     ]
    }
   ],
   "source": [
    "def reverse_last_first(name):\n",
    "    try:\n",
    "        last, first = name.split(', ')\n",
    "        return '{first} {last}'.format(first=first, last=last)\n",
    "    except ValueError:\n",
    "        return 'et al'\n",
    "    \n",
    "lines = []\n",
    "\n",
    "\n",
    "for entry in articles.entries:\n",
    "    authors = entry['author'].split(' and ')\n",
    "    print(entry['title'])\n",
    "    for last_first in authors:\n",
    "        first_last = reverse_last_first(last_first)\n",
    "        print('\\t', first_last)"
   ]
  },
  {
   "cell_type": "code",
   "execution_count": null,
   "metadata": {
    "collapsed": true
   },
   "outputs": [],
   "source": []
  }
 ],
 "metadata": {
  "kernelspec": {
   "display_name": "Python 3.5 (bibtex)",
   "language": "python",
   "name": "bibtex"
  },
  "language_info": {
   "codemirror_mode": {
    "name": "ipython",
    "version": 3
   },
   "file_extension": ".py",
   "mimetype": "text/x-python",
   "name": "python",
   "nbconvert_exporter": "python",
   "pygments_lexer": "ipython3",
   "version": "3.5.3"
  }
 },
 "nbformat": 4,
 "nbformat_minor": 2
}
