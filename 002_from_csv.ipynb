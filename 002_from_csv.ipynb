{
 "cells": [
  {
   "cell_type": "code",
   "execution_count": 2,
   "metadata": {
    "collapsed": false
   },
   "outputs": [
    {
     "data": {
      "text/html": [
       "<div>\n",
       "<table border=\"1\" class=\"dataframe\">\n",
       "  <thead>\n",
       "    <tr style=\"text-align: right;\">\n",
       "      <th></th>\n",
       "      <th>name</th>\n",
       "      <th>status</th>\n",
       "      <th>citation</th>\n",
       "    </tr>\n",
       "  </thead>\n",
       "  <tbody>\n",
       "    <tr>\n",
       "      <th>0</th>\n",
       "      <td>Yan Song</td>\n",
       "      <td>submitted</td>\n",
       "      <td>Yan Song, Olga B Botvinnik, Michael T Lovci, B...</td>\n",
       "    </tr>\n",
       "    <tr>\n",
       "      <th>1</th>\n",
       "      <td>Michael T Lovci</td>\n",
       "      <td>submitted</td>\n",
       "      <td>Yan Song, Olga B Botvinnik, Michael T Lovci, B...</td>\n",
       "    </tr>\n",
       "    <tr>\n",
       "      <th>2</th>\n",
       "      <td>Boyko Kakaradov</td>\n",
       "      <td>submitted</td>\n",
       "      <td>Yan Song, Olga B Botvinnik, Michael T Lovci, B...</td>\n",
       "    </tr>\n",
       "    <tr>\n",
       "      <th>3</th>\n",
       "      <td>Patrick Liu</td>\n",
       "      <td>submitted</td>\n",
       "      <td>Yan Song, Olga B Botvinnik, Michael T Lovci, B...</td>\n",
       "    </tr>\n",
       "    <tr>\n",
       "      <th>4</th>\n",
       "      <td>Jia L Xu</td>\n",
       "      <td>submitted</td>\n",
       "      <td>Yan Song, Olga B Botvinnik, Michael T Lovci, B...</td>\n",
       "    </tr>\n",
       "  </tbody>\n",
       "</table>\n",
       "</div>"
      ],
      "text/plain": [
       "              name     status  \\\n",
       "0         Yan Song  submitted   \n",
       "1  Michael T Lovci  submitted   \n",
       "2  Boyko Kakaradov  submitted   \n",
       "3      Patrick Liu  submitted   \n",
       "4         Jia L Xu  submitted   \n",
       "\n",
       "                                            citation  \n",
       "0  Yan Song, Olga B Botvinnik, Michael T Lovci, B...  \n",
       "1  Yan Song, Olga B Botvinnik, Michael T Lovci, B...  \n",
       "2  Yan Song, Olga B Botvinnik, Michael T Lovci, B...  \n",
       "3  Yan Song, Olga B Botvinnik, Michael T Lovci, B...  \n",
       "4  Yan Song, Olga B Botvinnik, Michael T Lovci, B...  "
      ]
     },
     "execution_count": 2,
     "metadata": {},
     "output_type": "execute_result"
    }
   ],
   "source": [
    "import pandas as pd\n",
    "\n",
    "coauthors = pd.read_csv('coauthors.csv')\n",
    "coauthors.head()"
   ]
  },
  {
   "cell_type": "code",
   "execution_count": null,
   "metadata": {
    "collapsed": true
   },
   "outputs": [],
   "source": [
    "myfirst, mylast = 'Olga Borisvona', 'Botvinnik'\n",
    "\n",
    "texts = {'published': '{myfirst} {mylast} has my permission to include the following paper,'\n",
    "         ' of which I was a co-author, in her doctoral dissertation.',\n",
    "        'submitted': '{myfirst} {mylast} has my permission to include the following paper '\n",
    "         'which was submitted for publication, of which I was a co-author, in her doctoral dissertation.',\n",
    "        'in preparation': '{myfirst} {mylast} has my permission to include material, currently '\n",
    "         'being prepared for submission for publication, of which I was a co-author, in her doctoral dissertation'}\n",
    "\n",
    "for coauthor, df in coauthors.groupby('name'):\n",
    "    text = ''\n",
    "    for i, paper in df.iterrows():\n",
    "        text += texts[paper['status']]\n",
    "        text += '\\n\\n'\n",
    "        text += paper['citation']\n",
    "    "
   ]
  }
 ],
 "metadata": {
  "kernelspec": {
   "display_name": "Python 3",
   "language": "python",
   "name": "python3"
  },
  "language_info": {
   "codemirror_mode": {
    "name": "ipython",
    "version": 3
   },
   "file_extension": ".py",
   "mimetype": "text/x-python",
   "name": "python",
   "nbconvert_exporter": "python",
   "pygments_lexer": "ipython3",
   "version": "3.5.3"
  }
 },
 "nbformat": 4,
 "nbformat_minor": 0
}
